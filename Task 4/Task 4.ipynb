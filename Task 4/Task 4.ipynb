{
 "cells": [
  {
   "cell_type": "code",
   "execution_count": 6,
   "id": "bf409c26",
   "metadata": {},
   "outputs": [],
   "source": [
    "# Importing the essential libraries\n",
    "import pandas as pd\n",
    "from sklearn.ensemble import RandomForestRegressor\n",
    "from sklearn.model_selection import train_test_split\n",
    "from sklearn.metrics import mean_absolute_error\n",
    "from sklearn.preprocessing import StandardScaler\n",
    "from sklearn.tree import DecisionTreeRegressor"
   ]
  },
  {
   "cell_type": "code",
   "execution_count": 9,
   "id": "0ce4c18a",
   "metadata": {},
   "outputs": [],
   "source": [
    "# Reading the cleaned and combined dataset from the CSV file\n",
    "data = pd.read_csv(\"Cleaned and combined dataset.csv\")"
   ]
  },
  {
   "cell_type": "code",
   "execution_count": 10,
   "id": "e374d56e",
   "metadata": {},
   "outputs": [],
   "source": [
    "# Number of folds for K-fold cross-validation\n",
    "K = 10\n",
    "\n",
    "# Separate features (x) and target variable (y)\n",
    "x = data.drop(columns=['estimated_stock_pct'])\n",
    "y = data['estimated_stock_pct']\n",
    "\n",
    "# Ratio for splitting data into training and test sets\n",
    "split = 0.75\n",
    "\n",
    "# List to store accuracy scores during cross-validation\n",
    "accuracy = []\n",
    "\n",
    "# Instantiate a StandardScaler to standardize feature values\n",
    "scaler = StandardScaler()\n",
    "\n",
    "# Create training and test samples using the specified split ratio and random seed\n",
    "x_train, x_test, y_train, y_test = train_test_split(x, y, train_size=split, random_state=42)\n",
    "\n",
    "# Fit the scaler on the training data and transform both training and test data\n",
    "scaler.fit(x_train)\n",
    "x_train = scaler.transform(x_train)\n",
    "x_test = scaler.transform(x_test)\n",
    "\n",
    "# Assigning variables to the models\n",
    "model_1 = RandomForestRegressor()\n",
    "model_2 = DecisionTreeRegressor()"
   ]
  },
  {
   "cell_type": "code",
   "execution_count": 11,
   "id": "336d35e3",
   "metadata": {},
   "outputs": [],
   "source": [
    "def train_and_test_RandomForestRegressor():\n",
    "    print(\"Training and testing using RandomForestRegressor Model: -\")\n",
    "    \n",
    "    # Loop through each fold in K-fold cross-validation\n",
    "    for fold in range(0, K):\n",
    "    \n",
    "        # Train the RandomForestRegressor model\n",
    "        trained_model = model_1.fit(x_train, y_train)\n",
    "    \n",
    "        # Generate predictions on the test sample\n",
    "        y_pred = trained_model.predict(x_test)\n",
    "    \n",
    "        # Compute accuracy using mean absolute error (MAE)\n",
    "        mae = mean_absolute_error(y_true=y_test, y_pred=y_pred)\n",
    "    \n",
    "        # Append the MAE to the accuracy list\n",
    "        accuracy.append(mae)\n",
    "    \n",
    "        # Print the MAE for the current fold\n",
    "        print(f\"Fold {fold + 1}: MAE = {mae:.3f}\")\n",
    "    \n",
    "    # Calculate and print the average MAE across all folds\n",
    "    print(f\"Average MAE for RandomForestRegressor Model: {(sum(accuracy) / len(accuracy)):.2f}\")"
   ]
  },
  {
   "cell_type": "code",
   "execution_count": 13,
   "id": "742db047",
   "metadata": {},
   "outputs": [],
   "source": [
    "def evaluation_RandomForestRegressor():\n",
    "    print(\"Top-5 features and their relative-importance for predicting the target variable(estimated_stock_pct) using RandomForestRegressor Model: -\")\n",
    "    \"\"\"\n",
    "    Evaluate and print the top 5 features and their importances from a RandomForestRegressor model.\n",
    "\n",
    "    Parameters:\n",
    "    - model: RandomForestRegressor model trained on the dataset.\n",
    "    - x: DataFrame containing features.\n",
    "\n",
    "    Returns:\n",
    "    None\n",
    "    \"\"\"\n",
    "    features = [i.split(\"__\")[0] for i in x.columns]\n",
    "    importances = model_1.feature_importances_\n",
    "    sorted_features = sorted(zip(features, importances), key=lambda x: x[1], reverse=True)\n",
    "\n",
    "    # Print the top 5 features and their importances\n",
    "    top_features = sorted_features[:5]\n",
    "    for feature, importance in top_features:\n",
    "        print(f\"{feature} : {round(importance, 3)}\")"
   ]
  },
  {
   "cell_type": "code",
   "execution_count": 14,
   "id": "a3ebbb96",
   "metadata": {},
   "outputs": [],
   "source": [
    "def train_and_test_DecisionTreeRegressor():\n",
    "    print(\"Training and testing using DecisionTreeRegressor Model: -\")\n",
    "    \n",
    "    # Loop through each fold in K-fold cross-validation\n",
    "    for fold in range(0, K):\n",
    "    \n",
    "        # Train the DecisionTreeRegressor model\n",
    "        trained_model_2 = model_2.fit(x_train, y_train)\n",
    "    \n",
    "        # Generate predictions on the test sample\n",
    "        y_pred = trained_model_2.predict(x_test)\n",
    "    \n",
    "        # Compute accuracy using mean absolute error (MAE)\n",
    "        mae = mean_absolute_error(y_true=y_test, y_pred=y_pred)\n",
    "    \n",
    "        # Append the MAE to the accuracy list\n",
    "        accuracy.append(mae)\n",
    "    \n",
    "        # Print the MAE for the current fold\n",
    "        print(f\"Fold {fold + 1}: MAE = {mae:.3f}\")\n",
    "    \n",
    "    # Calculate and print the average MAE across all folds\n",
    "    print(f\"Average MAE for DecisionTreeRegressor Model: {(sum(accuracy) / len(accuracy)):.2f}\")"
   ]
  },
  {
   "cell_type": "code",
   "execution_count": 15,
   "id": "2eef09fa",
   "metadata": {},
   "outputs": [],
   "source": [
    "def evaluation_DecisionTreeRegressor():\n",
    "    print(\"Top-5 features and their relative-importance for predicting the target variable(estimated_stock_pct) using DecisionTreeRegressor Model: -\")\n",
    "    \"\"\"\n",
    "    Evaluate and print the top 5 features and their importances from a DecisionTreeRegressor model.\n",
    "\n",
    "    Parameters:\n",
    "    - model: DecisionTreeRegressor model trained on the dataset.\n",
    "    - x: DataFrame containing features.\n",
    "\n",
    "    Returns:\n",
    "    None\n",
    "    \"\"\"\n",
    "    features_2 = [i.split(\"__\")[0] for i in x.columns]\n",
    "    importances_2 = model_2.feature_importances_\n",
    "    sorted_features_2 = sorted(zip(features_2, importances_2), key=lambda x: x[1], reverse=True)\n",
    "\n",
    "    # Print the top 5 features and their importances\n",
    "    top_features_2 = sorted_features_2[:5]\n",
    "    for feature, importance in top_features_2:\n",
    "        print(f\"{feature} : {round(importance, 3)}\")"
   ]
  },
  {
   "cell_type": "code",
   "execution_count": 16,
   "id": "f17a2ef8",
   "metadata": {},
   "outputs": [
    {
     "name": "stdout",
     "output_type": "stream",
     "text": [
      "Training and testing using RandomForestRegressor Model: -\n",
      "Fold 1: MAE = 0.237\n",
      "Fold 2: MAE = 0.236\n",
      "Fold 3: MAE = 0.236\n",
      "Fold 4: MAE = 0.236\n",
      "Fold 5: MAE = 0.237\n",
      "Fold 6: MAE = 0.237\n",
      "Fold 7: MAE = 0.236\n",
      "Fold 8: MAE = 0.236\n",
      "Fold 9: MAE = 0.236\n",
      "Fold 10: MAE = 0.236\n",
      "Average MAE for RandomForestRegressor Model: 0.24\n"
     ]
    }
   ],
   "source": [
    "# Calling the function to train and test the RandomForestRegressor model\n",
    "train_and_test_RandomForestRegressor()"
   ]
  },
  {
   "cell_type": "code",
   "execution_count": 17,
   "id": "2a49ef18",
   "metadata": {},
   "outputs": [
    {
     "name": "stdout",
     "output_type": "stream",
     "text": [
      "Top-5 features and their relative-importance for predicting the target variable(estimated_stock_pct) using RandomForestRegressor Model: -\n",
      "unit_price : 0.278\n",
      "temperature : 0.169\n",
      "timestamp_hour : 0.11\n",
      "quantity : 0.085\n",
      "timestamp_day_of_week : 0.05\n"
     ]
    }
   ],
   "source": [
    "# Calling the function to evaluate and print the top 5 features and their relative-importance for RandomForestRegressor model\n",
    "evaluation_RandomForestRegressor()"
   ]
  },
  {
   "cell_type": "code",
   "execution_count": 18,
   "id": "9a9172d3",
   "metadata": {},
   "outputs": [
    {
     "name": "stdout",
     "output_type": "stream",
     "text": [
      "Training and testing using DecisionTreeRegressor Model: -\n",
      "Fold 1: MAE = 0.314\n",
      "Fold 2: MAE = 0.313\n",
      "Fold 3: MAE = 0.313\n",
      "Fold 4: MAE = 0.313\n",
      "Fold 5: MAE = 0.314\n",
      "Fold 6: MAE = 0.313\n",
      "Fold 7: MAE = 0.310\n",
      "Fold 8: MAE = 0.313\n",
      "Fold 9: MAE = 0.314\n",
      "Fold 10: MAE = 0.312\n",
      "Average MAE for DecisionTreeRegressor Model: 0.27\n"
     ]
    }
   ],
   "source": [
    "# Calling the function to train and test the DecisionTreeRegressor model\n",
    "train_and_test_DecisionTreeRegressor()"
   ]
  },
  {
   "cell_type": "code",
   "execution_count": 19,
   "id": "44715775",
   "metadata": {},
   "outputs": [
    {
     "name": "stdout",
     "output_type": "stream",
     "text": [
      "Top-5 features and their relative-importance for predicting the target variable(estimated_stock_pct) using DecisionTreeRegressor Model: -\n",
      "unit_price : 0.288\n",
      "temperature : 0.163\n",
      "timestamp_hour : 0.106\n",
      "quantity : 0.097\n",
      "timestamp_day_of_week : 0.058\n"
     ]
    }
   ],
   "source": [
    "# Calling the function to evaluate and print the top 5 features of DecisionTreeRegressor model\n",
    "evaluation_DecisionTreeRegressor()"
   ]
  }
 ],
 "metadata": {
  "kernelspec": {
   "display_name": "Python 3 (ipykernel)",
   "language": "python",
   "name": "python3"
  },
  "language_info": {
   "codemirror_mode": {
    "name": "ipython",
    "version": 3
   },
   "file_extension": ".py",
   "mimetype": "text/x-python",
   "name": "python",
   "nbconvert_exporter": "python",
   "pygments_lexer": "ipython3",
   "version": "3.9.12"
  }
 },
 "nbformat": 4,
 "nbformat_minor": 5
}
